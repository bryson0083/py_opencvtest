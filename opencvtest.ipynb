{
 "cells": [
  {
   "cell_type": "code",
   "execution_count": 1,
   "metadata": {
    "collapsed": true
   },
   "outputs": [],
   "source": [
    "import requests\n",
    "import numpy\n",
    "import PIL\n",
    "import cv2\n",
    "import time\n",
    "import os\n",
    "from matplotlib import pyplot as plt\n",
    "from datetime import datetime\n",
    "from sklearn.preprocessing import StandardScaler\n",
    "from sklearn.externals import joblib\n",
    "from PIL import Image"
   ]
  },
  {
   "cell_type": "code",
   "execution_count": 2,
   "metadata": {
    "collapsed": true
   },
   "outputs": [],
   "source": [
    "basewidth = 50\n",
    "def saveKaptcha(image, dest):\n",
    "    scaler = StandardScaler()\n",
    "    pil_image = PIL.Image.open(image).convert('RGB') \n",
    "    open_cv_image = numpy.array(pil_image) \n",
    "    imgray = cv2.cvtColor(open_cv_image, cv2.COLOR_BGR2GRAY)\n",
    "    ret, thresh = cv2.threshold(imgray, 127, 255, 0)\n",
    "    image, contours, hierarchy = cv2.findContours(thresh, cv2.RETR_TREE, cv2.CHAIN_APPROX_SIMPLE)\n",
    "    cnts = sorted([(c, cv2.boundingRect(c)[0]) for c in contours], key=lambda x:x[1])\n",
    "    ary = []\n",
    "    for (c,_) in cnts:\n",
    "        (x,y,w,h) = cv2.boundingRect(c)\n",
    "        if w>= 14 and h == 24:\n",
    "            if w >= 20:\n",
    "                w1 = int(w / 2)\n",
    "                ary.append((x,y,w1,h))\n",
    "                ary.append((x+w1,y,w1,h))\n",
    "            else:\n",
    "                ary.append((x,y,w,h))\n",
    "                \n",
    "    data = []\n",
    "    for idx, (x,y,w,h) in enumerate(ary):\n",
    "        fig = plt.figure()\n",
    "        roi = open_cv_image[y:y+h, x:x+w]\n",
    "        thresh = roi.copy()\n",
    "        plt.imshow(thresh)\n",
    "        plt.savefig(os.path.join(dest, '{}.jpg'.format(idx)), dpi=100)"
   ]
  },
  {
   "cell_type": "code",
   "execution_count": 11,
   "metadata": {
    "collapsed": true
   },
   "outputs": [],
   "source": [
    "def predictKaptcha(dest):\n",
    "    data = []\n",
    "    for idx, img in enumerate(os.listdir(dest)):\n",
    "        pil_image = PIL.Image.open(os.path.join(dest,'{}'.format(img))).convert('1') \n",
    "        wpercent = (basewidth/float(pil_image.size[0]))\n",
    "        hsize = int((float(pil_image.size[1])*float(wpercent)))\n",
    "        \n",
    "        print(str(float(pil_image.size[1])))\n",
    "        print(str(float(wpercent)))\n",
    "        print(str(int((float(pil_image.size[1])*float(wpercent)))))\n",
    "        \n",
    "        img = pil_image.resize((basewidth,hsize), PIL.Image.ANTIALIAS)\n",
    "        data.append([pixel for pixel in iter(img.getdata())])\n",
    "    scaler.fit(data)\n",
    "    data_scaled = scaler.transform(data)\n",
    "    return clf.predict(data_scaled)"
   ]
  },
  {
   "cell_type": "code",
   "execution_count": 12,
   "metadata": {},
   "outputs": [
    {
     "name": "stderr",
     "output_type": "stream",
     "text": [
      "c:\\users\\bryson0083\\anaconda3\\envs\\opencvtest\\lib\\site-packages\\matplotlib\\pyplot.py:524: RuntimeWarning: More than 20 figures have been opened. Figures created through the pyplot interface (`matplotlib.pyplot.figure`) are retained until explicitly closed and may consume too much memory. (To control this warning, see the rcParam `figure.max_open_warning`).\n",
      "  max_open_warning, RuntimeWarning)\n"
     ]
    },
    {
     "name": "stdout",
     "output_type": "stream",
     "text": [
      "400.0\n",
      "0.08333333333333333\n",
      "33\n",
      "400.0\n",
      "0.08333333333333333\n",
      "33\n",
      "400.0\n",
      "0.08333333333333333\n",
      "33\n",
      "400.0\n",
      "0.08333333333333333\n",
      "33\n",
      "400.0\n",
      "0.08333333333333333\n",
      "33\n",
      "400.0\n",
      "0.08333333333333333\n",
      "33\n",
      "[1 8 7 4 0 3]\n"
     ]
    }
   ],
   "source": [
    "clf = joblib.load('captcha.pkl')\n",
    "scaler = StandardScaler()\n",
    "\"\"\"\n",
    "rs  = requests.session()\n",
    "res = rs.get('http://gcis.nat.gov.tw/pub/cmpy/cmpyInfoListAction.do')\n",
    "with open('kaptcha.jpg', 'wb') as f:\n",
    "    res2 = rs.get('http://gcis.nat.gov.tw/pub/kaptcha.jpg')\n",
    "    f.write(res2.content)\n",
    "\"\"\"\n",
    "saveKaptcha('kaptcha.jpg', 'imagedata') \n",
    "\n",
    "kaptcha = predictKaptcha('imagedata')\n",
    "\n",
    "print(kaptcha)\n",
    "image = Image.open('kaptcha.jpg')\n",
    "image.show()"
   ]
  },
  {
   "cell_type": "code",
   "execution_count": null,
   "metadata": {
    "collapsed": true
   },
   "outputs": [],
   "source": []
  }
 ],
 "metadata": {
  "kernelspec": {
   "display_name": "Python 3",
   "language": "python",
   "name": "python3"
  },
  "language_info": {
   "codemirror_mode": {
    "name": "ipython",
    "version": 3
   },
   "file_extension": ".py",
   "mimetype": "text/x-python",
   "name": "python",
   "nbconvert_exporter": "python",
   "pygments_lexer": "ipython3",
   "version": "3.5.2"
  }
 },
 "nbformat": 4,
 "nbformat_minor": 2
}
